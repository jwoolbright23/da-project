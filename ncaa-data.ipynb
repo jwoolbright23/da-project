{
 "cells": [
  {
   "cell_type": "code",
   "execution_count": 16,
   "id": "342972a8-c670-40c0-9ac3-1221b7e6ca08",
   "metadata": {},
   "outputs": [
    {
     "name": "stdout",
     "output_type": "stream",
     "text": [
      "<class 'pandas.core.frame.DataFrame'>\n",
      "RangeIndex: 4957 entries, 0 to 4956\n",
      "Data columns (total 24 columns):\n",
      " #   Column      Non-Null Count  Dtype  \n",
      "---  ------      --------------  -----  \n",
      " 0   TEAM        4957 non-null   object \n",
      " 1   CONF        4957 non-null   object \n",
      " 2   G           4957 non-null   object \n",
      " 3   W           4957 non-null   object \n",
      " 4   ADJOE       4957 non-null   object \n",
      " 5   ADJDE       4957 non-null   object \n",
      " 6   BARTHAG     4957 non-null   object \n",
      " 7   EFG_O       4957 non-null   object \n",
      " 8   EFG_D       4957 non-null   object \n",
      " 9   TOR         4957 non-null   object \n",
      " 10  TORD        4957 non-null   object \n",
      " 11  ORB         4957 non-null   object \n",
      " 12  DRB         4957 non-null   object \n",
      " 13  FTR         4957 non-null   object \n",
      " 14  FTRD        4957 non-null   object \n",
      " 15  2P_O        4957 non-null   object \n",
      " 16  2P_D        4957 non-null   object \n",
      " 17  3P_O        4957 non-null   object \n",
      " 18  3P_D        4957 non-null   object \n",
      " 19  ADJ_T       4957 non-null   object \n",
      " 20  WAB         4957 non-null   object \n",
      " 21  POSTSEASON  1250 non-null   object \n",
      " 22  SEED        956 non-null    object \n",
      " 23  YEAR        3523 non-null   float64\n",
      "dtypes: float64(1), object(23)\n",
      "memory usage: 929.6+ KB\n"
     ]
    },
    {
     "data": {
      "text/html": [
       "<div>\n",
       "<style scoped>\n",
       "    .dataframe tbody tr th:only-of-type {\n",
       "        vertical-align: middle;\n",
       "    }\n",
       "\n",
       "    .dataframe tbody tr th {\n",
       "        vertical-align: top;\n",
       "    }\n",
       "\n",
       "    .dataframe thead th {\n",
       "        text-align: right;\n",
       "    }\n",
       "</style>\n",
       "<table border=\"1\" class=\"dataframe\">\n",
       "  <thead>\n",
       "    <tr style=\"text-align: right;\">\n",
       "      <th></th>\n",
       "      <th>YEAR</th>\n",
       "    </tr>\n",
       "  </thead>\n",
       "  <tbody>\n",
       "    <tr>\n",
       "      <th>count</th>\n",
       "      <td>3523.000000</td>\n",
       "    </tr>\n",
       "    <tr>\n",
       "      <th>mean</th>\n",
       "      <td>2017.828555</td>\n",
       "    </tr>\n",
       "    <tr>\n",
       "      <th>std</th>\n",
       "      <td>3.257824</td>\n",
       "    </tr>\n",
       "    <tr>\n",
       "      <th>min</th>\n",
       "      <td>2013.000000</td>\n",
       "    </tr>\n",
       "    <tr>\n",
       "      <th>25%</th>\n",
       "      <td>2015.000000</td>\n",
       "    </tr>\n",
       "    <tr>\n",
       "      <th>50%</th>\n",
       "      <td>2018.000000</td>\n",
       "    </tr>\n",
       "    <tr>\n",
       "      <th>75%</th>\n",
       "      <td>2021.000000</td>\n",
       "    </tr>\n",
       "    <tr>\n",
       "      <th>max</th>\n",
       "      <td>2023.000000</td>\n",
       "    </tr>\n",
       "  </tbody>\n",
       "</table>\n",
       "</div>"
      ],
      "text/plain": [
       "              YEAR\n",
       "count  3523.000000\n",
       "mean   2017.828555\n",
       "std       3.257824\n",
       "min    2013.000000\n",
       "25%    2015.000000\n",
       "50%    2018.000000\n",
       "75%    2021.000000\n",
       "max    2023.000000"
      ]
     },
     "execution_count": 16,
     "metadata": {},
     "output_type": "execute_result"
    }
   ],
   "source": [
    "import pandas as pd\n",
    "import numpy as np\n",
    "\n",
    "data = pd.read_csv('data/2013-2019-data.csv')\n",
    "old_data = pd.read_csv('data/2013-2019-data-bak.csv')\n",
    "data_24 = pd.read_csv('data/cbb24.csv')\n",
    "\n",
    "data.info()\n",
    "data.describe()"
   ]
  },
  {
   "cell_type": "code",
   "execution_count": null,
   "id": "926b178e-b6af-454e-a296-91fa776d452c",
   "metadata": {},
   "outputs": [],
   "source": []
  }
 ],
 "metadata": {
  "kernelspec": {
   "display_name": "Python 3 (ipykernel)",
   "language": "python",
   "name": "python3"
  },
  "language_info": {
   "codemirror_mode": {
    "name": "ipython",
    "version": 3
   },
   "file_extension": ".py",
   "mimetype": "text/x-python",
   "name": "python",
   "nbconvert_exporter": "python",
   "pygments_lexer": "ipython3",
   "version": "3.10.12"
  }
 },
 "nbformat": 4,
 "nbformat_minor": 5
}
